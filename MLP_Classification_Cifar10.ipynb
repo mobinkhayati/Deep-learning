{
  "nbformat": 4,
  "nbformat_minor": 0,
  "metadata": {
    "colab": {
      "provenance": []
    },
    "kernelspec": {
      "name": "python3",
      "display_name": "Python 3"
    },
    "language_info": {
      "name": "python"
    }
  },
  "cells": [
    {
      "cell_type": "code",
      "execution_count": 4,
      "metadata": {
        "colab": {
          "base_uri": "https://localhost:8080/"
        },
        "id": "_-mbq0ToEEQx",
        "outputId": "e8189920-7bcf-43ff-d92e-918946b9c056"
      },
      "outputs": [
        {
          "output_type": "stream",
          "name": "stdout",
          "text": [
            "Epoch 1/20\n",
            "1563/1563 [==============================] - 39s 25ms/step - loss: 2.2171 - accuracy: 0.1506 - val_loss: 2.0373 - val_accuracy: 0.2222\n",
            "Epoch 2/20\n",
            "1563/1563 [==============================] - 38s 24ms/step - loss: 2.1255 - accuracy: 0.1772 - val_loss: 2.0590 - val_accuracy: 0.1892\n",
            "Epoch 3/20\n",
            "1563/1563 [==============================] - 38s 24ms/step - loss: 2.1134 - accuracy: 0.1811 - val_loss: 2.0161 - val_accuracy: 0.2417\n",
            "Epoch 4/20\n",
            "1563/1563 [==============================] - 38s 24ms/step - loss: 2.1021 - accuracy: 0.1882 - val_loss: 2.0553 - val_accuracy: 0.2357\n",
            "Epoch 5/20\n",
            "1563/1563 [==============================] - 38s 24ms/step - loss: 2.1043 - accuracy: 0.1873 - val_loss: 2.0254 - val_accuracy: 0.2367\n",
            "Epoch 6/20\n",
            "1563/1563 [==============================] - 38s 25ms/step - loss: 2.0945 - accuracy: 0.1916 - val_loss: 2.0486 - val_accuracy: 0.2496\n",
            "Epoch 7/20\n",
            "1563/1563 [==============================] - 39s 25ms/step - loss: 2.0910 - accuracy: 0.1988 - val_loss: 2.0722 - val_accuracy: 0.2316\n",
            "Epoch 8/20\n",
            "1563/1563 [==============================] - 42s 27ms/step - loss: 2.0853 - accuracy: 0.1983 - val_loss: 2.0236 - val_accuracy: 0.2446\n",
            "Epoch 9/20\n",
            "1563/1563 [==============================] - 45s 29ms/step - loss: 2.0831 - accuracy: 0.2018 - val_loss: 2.0498 - val_accuracy: 0.2504\n",
            "Epoch 10/20\n",
            "1563/1563 [==============================] - 39s 25ms/step - loss: 2.0715 - accuracy: 0.2061 - val_loss: 2.0452 - val_accuracy: 0.2227\n",
            "Epoch 11/20\n",
            "1563/1563 [==============================] - 38s 25ms/step - loss: 2.0624 - accuracy: 0.2069 - val_loss: 2.0554 - val_accuracy: 0.2321\n",
            "Epoch 12/20\n",
            "1563/1563 [==============================] - 39s 25ms/step - loss: 2.0558 - accuracy: 0.2123 - val_loss: 2.0105 - val_accuracy: 0.2393\n",
            "Epoch 13/20\n",
            "1563/1563 [==============================] - 38s 24ms/step - loss: 2.0563 - accuracy: 0.2115 - val_loss: 2.0246 - val_accuracy: 0.2461\n",
            "Epoch 14/20\n",
            "1563/1563 [==============================] - 38s 24ms/step - loss: 2.0575 - accuracy: 0.2098 - val_loss: 2.0255 - val_accuracy: 0.2553\n",
            "Epoch 15/20\n",
            "1563/1563 [==============================] - 38s 24ms/step - loss: 2.0625 - accuracy: 0.2110 - val_loss: 2.0443 - val_accuracy: 0.2614\n",
            "Epoch 16/20\n",
            "1563/1563 [==============================] - 38s 24ms/step - loss: 2.0554 - accuracy: 0.2126 - val_loss: 2.0269 - val_accuracy: 0.2466\n",
            "Epoch 17/20\n",
            "1563/1563 [==============================] - 38s 24ms/step - loss: 2.0535 - accuracy: 0.2136 - val_loss: 2.0096 - val_accuracy: 0.2462\n",
            "Epoch 18/20\n",
            "1563/1563 [==============================] - 39s 25ms/step - loss: 2.0513 - accuracy: 0.2132 - val_loss: 2.0453 - val_accuracy: 0.2604\n",
            "Epoch 19/20\n",
            "1563/1563 [==============================] - 41s 26ms/step - loss: 2.0506 - accuracy: 0.2165 - val_loss: 2.0541 - val_accuracy: 0.2344\n",
            "Epoch 20/20\n",
            "1563/1563 [==============================] - 39s 25ms/step - loss: 2.0478 - accuracy: 0.2153 - val_loss: 2.0313 - val_accuracy: 0.2336\n",
            "313/313 [==============================] - 2s 5ms/step - loss: 2.0313 - accuracy: 0.2336\n",
            "-------------------------------------\n",
            "Model accuracy in test data: 23.36%\n"
          ]
        }
      ],
      "source": [
        "import tensorflow as tf\n",
        "from tensorflow.keras import layers, models\n",
        "from tensorflow.keras.datasets import cifar10\n",
        "from tensorflow.keras.utils import to_categorical\n",
        "\n",
        "# دانلود و بارگیری داده‌های CIFAR-10\n",
        "(x_train, y_train), (x_test, y_test) = cifar10.load_data()\n",
        "\n",
        "# مقادیر پیکسل‌ها را به مقادیر اعشاری تبدیل کنید و مقادیر پیکسل‌ها را به مقدار بین 0 و 1 تبدیل کنید.\n",
        "x_train, x_test = x_train / 255.0, x_test / 255.0\n",
        "\n",
        "# تبدیل برچسب‌ها به بردارهای one-hot\n",
        "y_train = to_categorical(y_train, 10)\n",
        "y_test = to_categorical(y_test, 10)\n",
        "\n",
        "# ایجاد مدل MLP\n",
        "model = models.Sequential([\n",
        "    layers.Flatten(input_shape=(32, 32, 3)),  # لایه ورودی\n",
        "    layers.Dense(600, activation='relu'),  # لایه مخفی با 512 نورون و تابع فعال‌سازی ReLU\n",
        "    layers.Dropout(0.5),  # لایه Dropout با احتمال 0.5\n",
        "    layers.Dense(300, activation='relu'),  # لایه مخفی با 256 نورون و تابع فعال‌سازی ReLU\n",
        "    layers.Dropout(0.5),  # لایه Dropout با احتمال 0.5\n",
        "    layers.Dense(10, activation='softmax')  # لایه خروجی با تابع فعال‌سازی softmax (10 کلاس در داده CIFAR-10)\n",
        "])\n",
        "\n",
        "# کامپایل مدل\n",
        "model.compile(optimizer='adam',\n",
        "              loss='categorical_crossentropy',\n",
        "              metrics=['accuracy'])\n",
        "\n",
        "# آموزش مدل\n",
        "model.fit(x_train, y_train, epochs=20, validation_data=(x_test, y_test))\n",
        "\n",
        "# ارزیابی مدل\n",
        "test_loss, test_acc = model.evaluate(x_test, y_test)\n",
        "print(\"-------------------------------------\")\n",
        "print(\"Model accuracy in test data: {:.2f}%\".format(test_acc * 100))\n"
      ]
    }
  ]
}